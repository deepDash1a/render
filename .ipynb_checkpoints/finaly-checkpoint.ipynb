{
 "cells": [
  {
   "cell_type": "code",
   "execution_count": 2,
   "id": "08eb7705-44c3-4794-a0c5-090c4436cc59",
   "metadata": {},
   "outputs": [
    {
     "name": "stdout",
     "output_type": "stream",
     "text": [
      "text =   ر و ق ٦ ٦ ٦ ٦\n"
     ]
    }
   ],
   "source": [
    "from fastapi import FastAPI, File, UploadFile\n",
    "from fastapi.responses import JSONResponse\n",
    "import cv2\n",
    "import numpy as np\n",
    "from character_recognition import readPlate2\n",
    "from plate_detection import plate_detection\n",
    "import io\n",
    "\n",
    "app = FastAPI()\n",
    "\n",
    "def read_plate(img):\n",
    "    plate = plate_detection(img)\n",
    "    text = readPlate2(plate)\n",
    "    return text\n",
    "\n",
    "@app.post(\"/extract_text_from_plate/\")\n",
    "async def extract_text_from_plate(file: UploadFile = File(...)):\n",
    "    try:\n",
    "        # Read the image file from the uploaded content\n",
    "        image_bytes = await file.read()\n",
    "        img_array = np.frombuffer(image_bytes, np.uint8)\n",
    "        img = cv2.imdecode(img_array, cv2.IMREAD_COLOR)\n",
    "\n",
    "        # Call the existing read_plate function\n",
    "        text = read_plate(img)\n",
    "\n",
    "        # Return the extracted text as a response\n",
    "        return JSONResponse(content={\"text\": text})\n",
    "\n",
    "    except Exception as e:\n",
    "        return JSONResponse(status_code=500, content={\"error\": str(e)})\n",
    "\n",
    "if __name__ == \"__main__\":\n",
    "    import uvicorn\n",
    "    uvicorn.run(app, host=\"0.0.0.0\", port=8000)\n"
   ]
  },
  {
   "cell_type": "code",
   "execution_count": null,
   "id": "e76522c5-e616-41c1-8130-54e399776c3e",
   "metadata": {},
   "outputs": [],
   "source": []
  }
 ],
 "metadata": {
  "kernelspec": {
   "display_name": "Python 3 (ipykernel)",
   "language": "python",
   "name": "python3"
  },
  "language_info": {
   "codemirror_mode": {
    "name": "ipython",
    "version": 3
   },
   "file_extension": ".py",
   "mimetype": "text/x-python",
   "name": "python",
   "nbconvert_exporter": "python",
   "pygments_lexer": "ipython3",
   "version": "3.10.8"
  }
 },
 "nbformat": 4,
 "nbformat_minor": 5
}
